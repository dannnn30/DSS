{
  "nbformat": 4,
  "nbformat_minor": 0,
  "metadata": {
    "colab": {
      "provenance": [],
      "authorship_tag": "ABX9TyMzgfkv5Ufx3JGJBnfNFlwe",
      "include_colab_link": true
    },
    "kernelspec": {
      "name": "python3",
      "display_name": "Python 3"
    },
    "language_info": {
      "name": "python"
    }
  },
  "cells": [
    {
      "cell_type": "markdown",
      "metadata": {
        "id": "view-in-github",
        "colab_type": "text"
      },
      "source": [
        "<a href=\"https://colab.research.google.com/github/dannnn30/DSS/blob/main/OR_TOOLS_pt2.ipynb\" target=\"_parent\"><img src=\"https://colab.research.google.com/assets/colab-badge.svg\" alt=\"Open In Colab\"/></a>"
      ]
    },
    {
      "cell_type": "code",
      "source": [
        "!pip install ortools"
      ],
      "metadata": {
        "colab": {
          "base_uri": "https://localhost:8080/"
        },
        "id": "XQn81E8gR8DS",
        "outputId": "1684ce68-f4da-48d0-e9c4-42b0024d13e2"
      },
      "execution_count": null,
      "outputs": [
        {
          "output_type": "stream",
          "name": "stdout",
          "text": [
            "Collecting ortools\n",
            "  Downloading ortools-9.12.4544-cp311-cp311-manylinux_2_27_x86_64.manylinux_2_28_x86_64.whl.metadata (3.3 kB)\n",
            "Collecting absl-py>=2.0.0 (from ortools)\n",
            "  Downloading absl_py-2.1.0-py3-none-any.whl.metadata (2.3 kB)\n",
            "Requirement already satisfied: numpy>=1.13.3 in /usr/local/lib/python3.11/dist-packages (from ortools) (1.26.4)\n",
            "Requirement already satisfied: pandas>=2.0.0 in /usr/local/lib/python3.11/dist-packages (from ortools) (2.2.2)\n",
            "Collecting protobuf<5.30,>=5.29.3 (from ortools)\n",
            "  Downloading protobuf-5.29.3-cp38-abi3-manylinux2014_x86_64.whl.metadata (592 bytes)\n",
            "Requirement already satisfied: immutabledict>=3.0.0 in /usr/local/lib/python3.11/dist-packages (from ortools) (4.2.1)\n",
            "Requirement already satisfied: python-dateutil>=2.8.2 in /usr/local/lib/python3.11/dist-packages (from pandas>=2.0.0->ortools) (2.8.2)\n",
            "Requirement already satisfied: pytz>=2020.1 in /usr/local/lib/python3.11/dist-packages (from pandas>=2.0.0->ortools) (2025.1)\n",
            "Requirement already satisfied: tzdata>=2022.7 in /usr/local/lib/python3.11/dist-packages (from pandas>=2.0.0->ortools) (2025.1)\n",
            "Requirement already satisfied: six>=1.5 in /usr/local/lib/python3.11/dist-packages (from python-dateutil>=2.8.2->pandas>=2.0.0->ortools) (1.17.0)\n",
            "Downloading ortools-9.12.4544-cp311-cp311-manylinux_2_27_x86_64.manylinux_2_28_x86_64.whl (24.9 MB)\n",
            "\u001b[2K   \u001b[90m━━━━━━━━━━━━━━━━━━━━━━━━━━━━━━━━━━━━━━━━\u001b[0m \u001b[32m24.9/24.9 MB\u001b[0m \u001b[31m69.0 MB/s\u001b[0m eta \u001b[36m0:00:00\u001b[0m\n",
            "\u001b[?25hDownloading absl_py-2.1.0-py3-none-any.whl (133 kB)\n",
            "\u001b[2K   \u001b[90m━━━━━━━━━━━━━━━━━━━━━━━━━━━━━━━━━━━━━━━━\u001b[0m \u001b[32m133.7/133.7 kB\u001b[0m \u001b[31m11.5 MB/s\u001b[0m eta \u001b[36m0:00:00\u001b[0m\n",
            "\u001b[?25hDownloading protobuf-5.29.3-cp38-abi3-manylinux2014_x86_64.whl (319 kB)\n",
            "\u001b[2K   \u001b[90m━━━━━━━━━━━━━━━━━━━━━━━━━━━━━━━━━━━━━━━━\u001b[0m \u001b[32m319.7/319.7 kB\u001b[0m \u001b[31m23.3 MB/s\u001b[0m eta \u001b[36m0:00:00\u001b[0m\n",
            "\u001b[?25hInstalling collected packages: protobuf, absl-py, ortools\n",
            "  Attempting uninstall: protobuf\n",
            "    Found existing installation: protobuf 4.25.6\n",
            "    Uninstalling protobuf-4.25.6:\n",
            "      Successfully uninstalled protobuf-4.25.6\n",
            "  Attempting uninstall: absl-py\n",
            "    Found existing installation: absl-py 1.4.0\n",
            "    Uninstalling absl-py-1.4.0:\n",
            "      Successfully uninstalled absl-py-1.4.0\n",
            "Successfully installed absl-py-2.1.0 ortools-9.12.4544 protobuf-5.29.3\n"
          ]
        }
      ]
    },
    {
      "cell_type": "markdown",
      "source": [
        "#1. Constraint Programming (CP)\n",
        "##Penugasan Kerja dengan Constraint Programming"
      ],
      "metadata": {
        "id": "CV8m3q36RmSr"
      }
    },
    {
      "cell_type": "code",
      "execution_count": null,
      "metadata": {
        "colab": {
          "base_uri": "https://localhost:8080/"
        },
        "id": "wDZ_0lruRjOs",
        "outputId": "49869980-0804-4496-824a-ce144595e6cf"
      },
      "outputs": [
        {
          "output_type": "stream",
          "name": "stdout",
          "text": [
            "Solusi Optimal Ditemukan:\n",
            "Karyawan 1 bekerja di Proyek 1 selama 39 jam\n",
            "Karyawan 2 bekerja di Proyek 1 selama 1 jam\n",
            "Karyawan 2 bekerja di Proyek 2 selama 1 jam\n",
            "Karyawan 3 bekerja di Proyek 3 selama 1 jam\n",
            "Karyawan 3 bekerja di Proyek 4 selama 29 jam\n",
            "Karyawan 3 bekerja di Proyek 5 selama 44 jam\n",
            "Karyawan 4 bekerja di Proyek 2 selama 49 jam\n",
            "Karyawan 4 bekerja di Proyek 3 selama 59 jam\n",
            "Karyawan 4 bekerja di Proyek 4 selama 1 jam\n",
            "Karyawan 4 bekerja di Proyek 5 selama 1 jam\n"
          ]
        }
      ],
      "source": [
        "from ortools.sat.python import cp_model\n",
        "\n",
        "# Data\n",
        "num_projects = 5\n",
        "num_employees = 4\n",
        "weeks = 10\n",
        "\n",
        "# Durasi proyek dalam minggu\n",
        "project_durations = [4, 5, 6, 3, 4]\n",
        "\n",
        "# Jumlah pekerjaan per proyek (total jam kerja)\n",
        "project_workload = [40, 50, 60, 30, 45]\n",
        "\n",
        "# Batas akhir proyek dalam minggu\n",
        "project_deadlines = [6, 7, 10, 5, 8]\n",
        "\n",
        "# Kapasitas kerja tiap karyawan (jam/minggu)\n",
        "employee_capacity = [15, 10, 20, 12]\n",
        "\n",
        "# Inisialisasi model\n",
        "model = cp_model.CpModel()\n",
        "\n",
        "# Variabel: x[e][p] adalah jumlah jam kerja karyawan e di proyek p\n",
        "x = {}\n",
        "for e in range(num_employees):\n",
        "    for p in range(num_projects):\n",
        "        x[e, p] = model.NewIntVar(0, employee_capacity[e] * weeks, f'x_{e}_{p}')\n",
        "\n",
        "# 1. Setiap proyek harus memiliki minimal 2 karyawan yang mengerjakannya\n",
        "for p in range(num_projects):\n",
        "    assigned = []\n",
        "    for e in range(num_employees):\n",
        "        is_assigned = model.NewBoolVar(f'is_assigned_{e}_{p}')\n",
        "        model.Add(x[e, p] > 0).OnlyEnforceIf(is_assigned)\n",
        "        model.Add(x[e, p] == 0).OnlyEnforceIf(is_assigned.Not())\n",
        "        assigned.append(is_assigned)\n",
        "\n",
        "    model.Add(sum(assigned) >= 2)\n",
        "\n",
        "\n",
        "# 2. Total jam kerja per proyek harus memenuhi kebutuhan proyek\n",
        "for p in range(num_projects):\n",
        "    model.Add(sum(x[e, p] for e in range(num_employees)) == project_workload[p])\n",
        "\n",
        "# 3. Batasan kapasitas kerja tiap karyawan per minggu\n",
        "for e in range(num_employees):\n",
        "    model.Add(sum(x[e, p] for p in range(num_projects)) <= employee_capacity[e] * weeks)\n",
        "\n",
        "# 4. Total jam kerja per proyek tidak boleh melebihi deadline proyek\n",
        "for p in range(num_projects):\n",
        "    model.Add(sum(x[e, p] for e in range(num_employees)) <= project_deadlines[p] * sum(employee_capacity))\n",
        "\n",
        "# 5. Meminimalkan total jam kerja keseluruhan\n",
        "model.Minimize(sum(x[e, p] for e in range(num_employees) for p in range(num_projects)))\n",
        "\n",
        "# Solver\n",
        "solver = cp_model.CpSolver()\n",
        "status = solver.Solve(model)\n",
        "\n",
        "# Output hasil\n",
        "if status == cp_model.OPTIMAL or status == cp_model.FEASIBLE:\n",
        "    print(\"Solusi Optimal Ditemukan:\")\n",
        "    for e in range(num_employees):\n",
        "        for p in range(num_projects):\n",
        "            if solver.Value(x[e, p]) > 0:\n",
        "                print(f'Karyawan {e+1} bekerja di Proyek {p+1} selama {solver.Value(x[e, p])} jam')\n",
        "else:\n",
        "    print(\"Tidak ada solusi yang memenuhi semua kendala.\")\n"
      ]
    },
    {
      "cell_type": "markdown",
      "source": [
        "#2. Bin Packing dan Knapsack Problems\n",
        "##Seleksi Barang dalam Game RPG"
      ],
      "metadata": {
        "id": "XRCNqPkz4hhk"
      }
    },
    {
      "cell_type": "code",
      "source": [
        "!pip install ortools --upgrade  # Ensure OR-Tools is upgraded to latest\n",
        "from ortools.linear_solver import pywraplp # Correct import\n",
        "\n",
        "\n",
        "def solve_rpg_knapsack():\n",
        "    # Data Problem\n",
        "    values = [9, 8, 5, 4, 7, 6, 8, 7]  # Nilai kegunaan masing-masing item\n",
        "    weights = [[5, 7, 1, 1, 4, 2, 3, 1]]  # Berat masing-masing item\n",
        "    volumes = [[10, 12, 2, 2, 6, 3, 5, 1]]  # Volume masing-masing item\n",
        "    capacities = [15, 30]  # Kapasitas: [berat, volume]\n",
        "    num_items = len(values)\n",
        "\n",
        "    # Solver OR-Tools\n",
        "    solver = pywraplp.Solver.CreateSolver('SCIP') # Initialize solver using pywraplp\n",
        "\n",
        "    # Define variables\n",
        "    x = [solver.IntVar(0, 1, f'x_{i}') for i in range(num_items)] # 1 if item is selected, 0 otherwise\n",
        "\n",
        "    # Constraints\n",
        "    # Weight constraint\n",
        "    solver.Add(sum(x[i] * weights[0][i] for i in range(num_items)) <= capacities[0])\n",
        "    # Volume constraint\n",
        "    solver.Add(sum(x[i] * volumes[0][i] for i in range(num_items)) <= capacities[1])\n",
        "\n",
        "    # Objective function: Maximize total value\n",
        "    solver.Objective().SetMaximization()\n",
        "    for i in range(num_items):\n",
        "        solver.Objective().SetCoefficient(x[i], values[i])\n",
        "\n",
        "\n",
        "    # Menjalankan solver\n",
        "    status = solver.Solve()\n",
        "\n",
        "    # Menampilkan hasil\n",
        "    if status == pywraplp.Solver.OPTIMAL:\n",
        "        print(\"Total nilai kegunaan maksimal:\", solver.Objective().Value())\n",
        "        print(\"Barang yang dipilih:\")\n",
        "        total_weight, total_volume = 0, 0\n",
        "        for i in range(num_items):\n",
        "            if x[i].solution_value() > 0:\n",
        "                print(f\"- Item ke-{i+1}: Berat = {weights[0][i]} kg, Volume = {volumes[0][i]} liter, Nilai = {values[i]}\")\n",
        "                total_weight += weights[0][i]\n",
        "                total_volume += volumes[0][i]\n",
        "\n",
        "        print(f\"Total Berat: {total_weight} kg, Total Volume: {total_volume} liter\")\n",
        "    else:\n",
        "        print(\"The problem does not have an optimal solution.\")\n",
        "\n",
        "# Menjalankan solver\n",
        "solve_rpg_knapsack()\n"
      ],
      "metadata": {
        "colab": {
          "base_uri": "https://localhost:8080/"
        },
        "id": "Nlau1OzS4m0S",
        "outputId": "64691211-6b1c-4c6c-c5d3-cde6f4a36925"
      },
      "execution_count": null,
      "outputs": [
        {
          "output_type": "stream",
          "name": "stdout",
          "text": [
            "Requirement already satisfied: ortools in /usr/local/lib/python3.11/dist-packages (9.12.4544)\n",
            "Requirement already satisfied: absl-py>=2.0.0 in /usr/local/lib/python3.11/dist-packages (from ortools) (2.1.0)\n",
            "Requirement already satisfied: numpy>=1.13.3 in /usr/local/lib/python3.11/dist-packages (from ortools) (1.26.4)\n",
            "Requirement already satisfied: pandas>=2.0.0 in /usr/local/lib/python3.11/dist-packages (from ortools) (2.2.2)\n",
            "Requirement already satisfied: protobuf<5.30,>=5.29.3 in /usr/local/lib/python3.11/dist-packages (from ortools) (5.29.3)\n",
            "Requirement already satisfied: immutabledict>=3.0.0 in /usr/local/lib/python3.11/dist-packages (from ortools) (4.2.1)\n",
            "Requirement already satisfied: python-dateutil>=2.8.2 in /usr/local/lib/python3.11/dist-packages (from pandas>=2.0.0->ortools) (2.8.2)\n",
            "Requirement already satisfied: pytz>=2020.1 in /usr/local/lib/python3.11/dist-packages (from pandas>=2.0.0->ortools) (2025.1)\n",
            "Requirement already satisfied: tzdata>=2022.7 in /usr/local/lib/python3.11/dist-packages (from pandas>=2.0.0->ortools) (2025.1)\n",
            "Requirement already satisfied: six>=1.5 in /usr/local/lib/python3.11/dist-packages (from python-dateutil>=2.8.2->pandas>=2.0.0->ortools) (1.17.0)\n",
            "Total nilai kegunaan maksimal: 40.00000000000001\n",
            "Barang yang dipilih:\n",
            "- Item ke-1: Berat = 5 kg, Volume = 10 liter, Nilai = 9\n",
            "- Item ke-3: Berat = 1 kg, Volume = 2 liter, Nilai = 5\n",
            "- Item ke-4: Berat = 1 kg, Volume = 2 liter, Nilai = 4\n",
            "- Item ke-5: Berat = 4 kg, Volume = 6 liter, Nilai = 7\n",
            "- Item ke-7: Berat = 3 kg, Volume = 5 liter, Nilai = 8\n",
            "- Item ke-8: Berat = 1 kg, Volume = 1 liter, Nilai = 7\n",
            "Total Berat: 15 kg, Total Volume: 26 liter\n"
          ]
        }
      ]
    },
    {
      "cell_type": "markdown",
      "source": [
        "#3. Constraint Programming (CP)\n",
        "##Penjadwalan Produksi Film"
      ],
      "metadata": {
        "id": "tz4EwW58Lhb1"
      }
    },
    {
      "cell_type": "code",
      "source": [
        "from ortools.sat.python import cp_model\n",
        "\n",
        "def schedule_film_shooting():\n",
        "    # Data\n",
        "    days = range(1, 6)  # Hari 1 sampai 5\n",
        "    scenes = range(6)  # 6 Adegan\n",
        "    actors = {\n",
        "        0: {1, 2, 3, 5},  # Aldo\n",
        "        1: {1, 2, 4, 5},  # Bella\n",
        "        2: {1, 3, 4, 5},  # Charlie\n",
        "        3: {2, 3, 4, 5}   # Dina\n",
        "    }\n",
        "    locations = {\n",
        "        0: {1, 3, 5},  # Istana\n",
        "        1: {2, 4, 5},  # Hutan\n",
        "        2: {1, 2, 3}   # Pasar\n",
        "    }\n",
        "    scene_requirements = [\n",
        "        (0, [0, 2]),    # Adegan 1: Istana (Aldo, Charlie)\n",
        "        (1, [1, 3]),    # Adegan 2: Hutan (Bella, Dina)\n",
        "        (2, [0, 1, 2]), # Adegan 3: Pasar (Aldo, Bella, Charlie)\n",
        "        (1, [2, 3]),    # Adegan 4: Hutan (Charlie, Dina)\n",
        "        (0, [0, 2, 3]), # Adegan 5: Istana (Aldo, Charlie, Dina)\n",
        "        (2, [1, 3])     # Adegan 6: Pasar (Bella, Dina)\n",
        "    ]\n",
        "\n",
        "    # Model CP-SAT\n",
        "    model = cp_model.CpModel()\n",
        "\n",
        "    # Variabel: Hari syuting untuk setiap adegan\n",
        "    scene_days = {s: model.NewIntVar(1, 5, f'scene_{s}_day') for s in scenes}\n",
        "\n",
        "    # Constraint: Setiap adegan harus dilakukan pada hari yang memenuhi syarat lokasi\n",
        "    for s, (location, required_actors) in enumerate(scene_requirements):\n",
        "        model.AddAllowedAssignments([scene_days[s]], [[d] for d in locations[location]])\n",
        "\n",
        "        # Constraint: Setiap aktor harus tersedia pada hari itu\n",
        "        for actor in required_actors:\n",
        "            model.AddAllowedAssignments([scene_days[s]], [[d] for d in actors[actor]])\n",
        "\n",
        "    # Solver\n",
        "    solver = cp_model.CpSolver()\n",
        "    status = solver.Solve(model)\n",
        "\n",
        "    # Hasil\n",
        "    if status == cp_model.FEASIBLE or status == cp_model.OPTIMAL:\n",
        "        for s in scenes:\n",
        "            print(f'Adegan {s+1} dijadwalkan pada hari {solver.Value(scene_days[s])}')\n",
        "    else:\n",
        "        print(\"Tidak ada solusi yang memenuhi semua constraint.\")\n",
        "\n",
        "# Jalankan solver\n",
        "schedule_film_shooting()"
      ],
      "metadata": {
        "colab": {
          "base_uri": "https://localhost:8080/"
        },
        "id": "iKChKwMyLgRl",
        "outputId": "3e642e3e-4d2e-4e08-d77a-62925c074abe"
      },
      "execution_count": null,
      "outputs": [
        {
          "output_type": "stream",
          "name": "stdout",
          "text": [
            "Adegan 1 dijadwalkan pada hari 1\n",
            "Adegan 2 dijadwalkan pada hari 2\n",
            "Adegan 3 dijadwalkan pada hari 1\n",
            "Adegan 4 dijadwalkan pada hari 4\n",
            "Adegan 5 dijadwalkan pada hari 3\n",
            "Adegan 6 dijadwalkan pada hari 2\n"
          ]
        }
      ]
    },
    {
      "cell_type": "markdown",
      "source": [
        "#4. Network Flow Problems\n",
        "##Internet Packet Routing\n",
        "\n"
      ],
      "metadata": {
        "id": "PZ7bs9NyU7Dr"
      }
    },
    {
      "cell_type": "code",
      "source": [
        "from ortools.linear_solver import pywraplp\n",
        "\n",
        "def internet_packet_routing():\n",
        "    # Inisialisasi model jaringan aliran minimum biaya\n",
        "    # Use pywraplp.Solver instead of SimpleMinCostFlow\n",
        "    solver = pywraplp.Solver.CreateSolver('SCIP')\n",
        "\n",
        "    # Node pada jaringan (A = 0, B = 1, C = 2, D = 3, E = 4, F = 5, G = 6)\n",
        "    start_nodes = [0, 0, 1, 1, 2, 2, 3, 3, 4, 5, 4, 5]\n",
        "    end_nodes = [1, 2, 3, 4, 3, 5, 4, 6, 6, 6, 5, 4]\n",
        "    capacities = [20, 15, 25, 10, 20, 30, 15, 10, 25, 20, 10, 15]  # Bandwidth maksimum (Mbps)\n",
        "    unit_costs = [2, 3, 1, 4, 2, 2, 3, 5, 1, 2, 3, 2]  # Biaya per unit data\n",
        "    num_arcs = len(start_nodes)\n",
        "\n",
        "\n",
        "    # Define flow variables for each arc\n",
        "    flow = {}\n",
        "    for i in range(num_arcs):\n",
        "        flow[i] = solver.IntVar(0, capacities[i], f'flow_{i}')\n",
        "\n",
        "    # Constraints: Flow conservation at each node (except source and sink)\n",
        "    for node in range(1, 6):  # Nodes B to F\n",
        "        incoming_flow = sum(flow[i] for i in range(num_arcs) if end_nodes[i] == node)\n",
        "        outgoing_flow = sum(flow[i] for i in range(num_arcs) if start_nodes[i] == node)\n",
        "        solver.Add(incoming_flow == outgoing_flow)\n",
        "\n",
        "\n",
        "    # Constraint: Total flow from source (A) equals supply\n",
        "    solver.Add(sum(flow[i] for i in range(num_arcs) if start_nodes[i] == 0) == 30)\n",
        "\n",
        "    # Objective function: Minimize total cost\n",
        "    objective = solver.Objective()\n",
        "    for i in range(num_arcs):\n",
        "        objective.SetCoefficient(flow[i], unit_costs[i])\n",
        "    objective.SetMinimization()\n",
        "\n",
        "    # Menjalankan solver\n",
        "    status = solver.Solve()\n",
        "\n",
        "    # Menampilkan hasil\n",
        "    if status == pywraplp.Solver.OPTIMAL:\n",
        "        print(\"Solusi optimal ditemukan!\")\n",
        "        print(\"Jalur data yang dipilih:\")\n",
        "        total_cost = 0\n",
        "        for i in range(num_arcs):\n",
        "            if flow[i].solution_value() > 0:\n",
        "                print(f\"Server {start_nodes[i]} -> Server {end_nodes[i]}: {flow[i].solution_value()} Mbps\")\n",
        "                total_cost += flow[i].solution_value() * unit_costs[i]\n",
        "        print(f\"Total biaya pengiriman: {total_cost}\")\n",
        "    else:\n",
        "        print(\"Tidak ada solusi optimal yang ditemukan.\")\n",
        "\n",
        "# Jalankan solver\n",
        "internet_packet_routing()"
      ],
      "metadata": {
        "colab": {
          "base_uri": "https://localhost:8080/"
        },
        "id": "hfygYrsjU3pr",
        "outputId": "a6804cc6-c473-4275-ff21-6f40f2ef0ee9"
      },
      "execution_count": null,
      "outputs": [
        {
          "output_type": "stream",
          "name": "stdout",
          "text": [
            "Solusi optimal ditemukan!\n",
            "Jalur data yang dipilih:\n",
            "Server 0 -> Server 1: 15.0 Mbps\n",
            "Server 0 -> Server 2: 15.0 Mbps\n",
            "Server 1 -> Server 3: 15.0 Mbps\n",
            "Server 2 -> Server 5: 15.0 Mbps\n",
            "Server 3 -> Server 4: 15.0 Mbps\n",
            "Server 4 -> Server 6: 15.0 Mbps\n",
            "Server 5 -> Server 6: 15.0 Mbps\n",
            "Total biaya pengiriman: 210.0\n"
          ]
        }
      ]
    },
    {
      "cell_type": "markdown",
      "source": [
        "#5. Bin Packing dan Knapsack Problems\n",
        "##Penempatan Kontainer di Kapal Kargo"
      ],
      "metadata": {
        "id": "L9vmYMxGb76B"
      }
    },
    {
      "cell_type": "code",
      "source": [
        "from ortools.linear_solver import pywraplp\n",
        "\n",
        "# Data kontainer (berat, luas, dan nilai prioritas)\n",
        "weights = [10, 8, 12, 7, 5, 15, 6, 9, 11, 4]  # Berat (ton)\n",
        "volumes = [20, 15, 25, 12, 10, 30, 14, 18, 22, 8]  # Luas (m²)\n",
        "values = [60, 50, 80, 40, 30, 90, 35, 55, 70, 20]  # Nilai Prioritas\n",
        "\n",
        "# Kapasitas maksimal kapal\n",
        "max_weight = 50  # ton\n",
        "max_volume = 100  # m²\n",
        "\n",
        "# Inisialisasi solver menggunakan pywraplp\n",
        "solver = pywraplp.Solver.CreateSolver('SCIP')\n",
        "\n",
        "# Define variables\n",
        "x = {}\n",
        "for i in range(len(weights)):\n",
        "    x[i] = solver.IntVar(0, 1, f'x_{i}')\n",
        "\n",
        "# Constraints\n",
        "# Weight constraint\n",
        "solver.Add(sum(x[i] * weights[i] for i in range(len(weights))) <= max_weight)\n",
        "# Volume constraint\n",
        "solver.Add(sum(x[i] * volumes[i] for i in range(len(weights))) <= max_volume)\n",
        "\n",
        "# Objective function: Maximize total value\n",
        "objective = solver.Objective()\n",
        "for i in range(len(weights)):\n",
        "    objective.SetCoefficient(x[i], values[i])\n",
        "objective.SetMaximization()\n",
        "\n",
        "# Menjalankan solver\n",
        "status = solver.Solve()\n",
        "\n",
        "# Menampilkan hasil\n",
        "packed_items = []\n",
        "total_weight = 0\n",
        "total_volume = 0\n",
        "total_value = 0\n",
        "\n",
        "if status == pywraplp.Solver.OPTIMAL:\n",
        "    for i in range(len(weights)):\n",
        "        if x[i].solution_value() > 0:\n",
        "            packed_items.append(f\"C{i+1}\")  # Menyimpan ID kontainer\n",
        "            total_weight += weights[i]\n",
        "            total_volume += volumes[i]\n",
        "            total_value += values[i]\n",
        "\n",
        "    print(\"\\nKontainer yang dimuat ke kapal:\", packed_items)\n",
        "    print(f\"Total Berat: {total_weight} ton dari kapasitas {max_weight} ton\")\n",
        "    print(f\"Total Luas: {total_volume} m² dari kapasitas {max_volume} m²\")\n",
        "    print(f\"Total Nilai Prioritas: {total_value}\")\n",
        "else:\n",
        "    print(\"The problem does not have an optimal solution.\")"
      ],
      "metadata": {
        "colab": {
          "base_uri": "https://localhost:8080/"
        },
        "id": "3asIWtktcyV4",
        "outputId": "c1728b62-062c-4536-92bc-5ef42eb45943"
      },
      "execution_count": null,
      "outputs": [
        {
          "output_type": "stream",
          "name": "stdout",
          "text": [
            "\n",
            "Kontainer yang dimuat ke kapal: ['C1', 'C2', 'C3', 'C8', 'C9']\n",
            "Total Berat: 50 ton dari kapasitas 50 ton\n",
            "Total Luas: 100 m² dari kapasitas 100 m²\n",
            "Total Nilai Prioritas: 315\n"
          ]
        }
      ]
    }
  ]
}