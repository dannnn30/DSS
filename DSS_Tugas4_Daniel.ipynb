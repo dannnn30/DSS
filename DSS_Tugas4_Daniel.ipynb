{
  "nbformat": 4,
  "nbformat_minor": 0,
  "metadata": {
    "colab": {
      "provenance": [],
      "authorship_tag": "ABX9TyPbfhv+12n9Ejni6tdHMBXg",
      "include_colab_link": true
    },
    "kernelspec": {
      "name": "python3",
      "display_name": "Python 3"
    },
    "language_info": {
      "name": "python"
    }
  },
  "cells": [
    {
      "cell_type": "markdown",
      "metadata": {
        "id": "view-in-github",
        "colab_type": "text"
      },
      "source": [
        "<a href=\"https://colab.research.google.com/github/dannnn30/DSS/blob/main/DSS_Tugas4_Daniel.ipynb\" target=\"_parent\"><img src=\"https://colab.research.google.com/assets/colab-badge.svg\" alt=\"Open In Colab\"/></a>"
      ]
    },
    {
      "cell_type": "markdown",
      "source": [
        "#DSS\n",
        "##Tugas 4\n",
        "###Nama: Daniel Y. Oematan\n",
        "###NIM: 0706022210060"
      ],
      "metadata": {
        "id": "j3aSEAjr73Hw"
      }
    },
    {
      "cell_type": "code",
      "execution_count": 23,
      "metadata": {
        "colab": {
          "base_uri": "https://localhost:8080/"
        },
        "id": "y3L5mV4KrZex",
        "outputId": "4c04e1ba-cb4f-4746-d01f-2611f9abd8e0"
      },
      "outputs": [
        {
          "output_type": "stream",
          "name": "stdout",
          "text": [
            "Bobot akhir (Biner): [-2. -1.  3.] | Jumlah Epoch: 6\n",
            "Bobot akhir (Bipolar): [-2. -2.  2.] | Jumlah Epoch: 2\n"
          ]
        }
      ],
      "source": [
        "import numpy as np\n",
        "\n",
        "def fungsi_aktivasi_biner(nilai_net, theta):\n",
        "    return 1 if nilai_net >= theta else 0\n",
        "\n",
        "def fungsi_aktivasi_bipolar(nilai_net, theta):\n",
        "    return 1 if nilai_net >= theta else -1\n",
        "\n",
        "def latih_perseptron(data_input, target, alpha, theta, bipolar=False):\n",
        "    jumlah_fitur = data_input.shape[1]\n",
        "    bobot = np.zeros(jumlah_fitur)\n",
        "\n",
        "    epoch_ke = 0\n",
        "    while True:\n",
        "        jumlah_error = 0\n",
        "        for x, t in zip(data_input, target):\n",
        "            nilai_net = np.dot(x, bobot)\n",
        "            if bipolar:\n",
        "                output = fungsi_aktivasi_bipolar(nilai_net, theta)\n",
        "            else:\n",
        "                output = fungsi_aktivasi_biner(nilai_net, theta)\n",
        "            error = t - output\n",
        "            if error != 0:\n",
        "                bobot += alpha * error * x\n",
        "                jumlah_error += 1\n",
        "        epoch_ke += 1\n",
        "        if jumlah_error == 0 or epoch_ke > 100000:\n",
        "            break\n",
        "    return bobot, epoch_ke\n",
        "# Input NOT(x1 OR x2) - Biner\n",
        "#Bias =1\n",
        "input_biner = np.array([\n",
        "    [0, 0, 1],\n",
        "    [0, 1, 1],\n",
        "    [1, 0, 1],\n",
        "    [1, 1, 1]\n",
        "])\n",
        "target_biner = np.array([1, 1, 1, 0])\n",
        "\n",
        "# Input NOT(x1 OR x2) - Bipolar\n",
        "#Bias =1\n",
        "input_bipolar = np.array([\n",
        "    [-1, -1, 1],\n",
        "    [-1, 1, 1],\n",
        "    [1, -1, 1],\n",
        "    [1, 1, 1]\n",
        "])\n",
        "target_bipolar = np.array([1, 1, 1, -1])\n",
        "\n",
        "alpha = 1\n",
        "theta = 0.1\n",
        "\n",
        "bobot_biner, epoch_biner = latih_perseptron(input_biner, target_biner, alpha, theta)\n",
        "bobot_bipolar, epoch_bipolar = latih_perseptron(input_bipolar, target_bipolar, alpha, theta, bipolar=True)\n",
        "\n",
        "print(\"Bobot akhir (Biner):\", bobot_biner, \"| Jumlah Epoch:\", epoch_biner)\n",
        "print(\"Bobot akhir (Bipolar):\", bobot_bipolar, \"| Jumlah Epoch:\", epoch_bipolar)"
      ]
    },
    {
      "cell_type": "code",
      "source": [
        "import numpy as np\n",
        "import pandas as pd\n",
        "\n",
        "# Fungsi aktivasi\n",
        "def activation(net, theta):\n",
        "    return 1 if net >= theta else 0\n",
        "\n",
        "def activation_bipolar(net, theta):\n",
        "    return 1 if net >= theta else -1\n",
        "\n",
        "# Fungsi training perceptron\n",
        "def perceptron_train(inputs, targets, alpha, theta, bipolar=False):\n",
        "    num_features = inputs.shape[1]\n",
        "    weights = np.zeros(num_features)\n",
        "\n",
        "    epoch = 0\n",
        "    while True:\n",
        "        error_count = 0\n",
        "        for x, target in zip(inputs, targets):\n",
        "            net = np.dot(x, weights)\n",
        "            output = activation_bipolar(net, theta) if bipolar else activation(net, theta)\n",
        "            error = target - output\n",
        "            if error != 0:\n",
        "                weights += alpha * error * x\n",
        "                error_count += 1\n",
        "        epoch += 1\n",
        "        if error_count == 0 or epoch > 100:\n",
        "            break\n",
        "    return weights, epoch\n",
        "\n",
        "# Load dataset\n",
        "df = pd.read_csv('https://raw.githubusercontent.com/dannnn30/DSS/refs/heads/main/play_tennis.csv')\n",
        "\n",
        "# Binary encoding\n",
        "binary_encoding = {\n",
        "    'outlook': {'Sunny': [1, 0, 0], 'Overcast': [0, 1, 0], 'Rain': [0, 0, 1]},\n",
        "    'temp': {'Hot': [1, 0, 0], 'Mild': [0, 1, 0], 'Cool': [0, 0, 1]},\n",
        "    'humidity': {'High': 1, 'Normal': 0},\n",
        "    'wind': {'Weak': 0, 'Strong': 1},\n",
        "    'play': {'Yes': 1, 'No': 0}\n",
        "}\n",
        "\n",
        "# Bipolar encoding\n",
        "bipolar_encoding = {\n",
        "    'outlook': {'Sunny': [1, -1, -1], 'Overcast': [-1, 1, -1], 'Rain': [-1, -1, 1]},\n",
        "    'temp': {'Hot': [1, -1, -1], 'Mild': [-1, 1, -1], 'Cool': [-1, -1, 1]},\n",
        "    'humidity': {'High': 1, 'Normal': -1},\n",
        "    'wind': {'Weak': -1, 'Strong': 1},\n",
        "    'play': {'Yes': 1, 'No': -1}\n",
        "}\n",
        "\n",
        "# Fungsi encoding dataset\n",
        "def encode_dataset(df, encoding_map):\n",
        "    encoded_inputs = []\n",
        "    encoded_targets = []\n",
        "\n",
        "    for _, row in df.iterrows():\n",
        "        outlook = encoding_map['outlook'][row['outlook']]\n",
        "        temp = encoding_map['temp'][row['temp']]\n",
        "        humidity = [encoding_map['humidity'][row['humidity']]]\n",
        "        wind = [encoding_map['wind'][row['wind']]]\n",
        "        bias = [1]\n",
        "        input_vector = outlook + temp + humidity + wind + bias\n",
        "        encoded_inputs.append(input_vector)\n",
        "        encoded_targets.append(encoding_map['play'][row['play']])\n",
        "\n",
        "    return np.array(encoded_inputs), np.array(encoded_targets)\n",
        "\n",
        "# Encode datasets\n",
        "inputs_binary, targets_binary = encode_dataset(df, binary_encoding)\n",
        "inputs_bipolar, targets_bipolar = encode_dataset(df, bipolar_encoding)\n",
        "\n",
        "# Input parameter dari user\n",
        "alpha = float(input(\"Masukkan nilai alpha (misal: 1): \"))\n",
        "theta = float(input(\"Masukkan nilai theta (misal: 0.5): \"))\n",
        "\n",
        "# Training\n",
        "weights_bin, ep_bin = perceptron_train(inputs_binary, targets_binary, alpha, theta)\n",
        "weights_bip, ep_bip = perceptron_train(inputs_bipolar, targets_bipolar, alpha, theta, bipolar=True)\n",
        "\n",
        "# Output hasil\n",
        "print(\"\\n=== HASIL PERCEPTRON TRAINING ===\")\n",
        "print(\"Binary Representation:\")\n",
        "print(\"  Weights:\", weights_bin)\n",
        "print(\"  Epochs:\", ep_bin)\n",
        "\n",
        "print(\"\\nBipolar Representation:\")\n",
        "print(\"  Weights:\", weights_bip)\n",
        "print(\"  Epochs:\", ep_bip)"
      ],
      "metadata": {
        "colab": {
          "base_uri": "https://localhost:8080/"
        },
        "id": "n24xwQue3dt8",
        "outputId": "54dc84f3-09f9-4627-a055-38bff79baf68"
      },
      "execution_count": 28,
      "outputs": [
        {
          "output_type": "stream",
          "name": "stdout",
          "text": [
            "Masukkan nilai alpha (misal: 0.1): 1\n",
            "Masukkan nilai theta (misal: 0.5): 0.5\n",
            "\n",
            "=== HASIL PERCEPTRON TRAINING ===\n",
            "Binary Representation:\n",
            "  Weights: [-1.  4.  0.  0.  3.  0. -5. -4.  3.]\n",
            "  Epochs: 14\n",
            "\n",
            "Bipolar Representation:\n",
            "  Weights: [ -8.   8.  -4.  -4.   4.  -4. -12.  -8.   4.]\n",
            "  Epochs: 9\n"
          ]
        }
      ]
    }
  ]
}